{
  "nbformat": 4,
  "nbformat_minor": 0,
  "metadata": {
    "colab": {
      "provenance": []
    },
    "kernelspec": {
      "name": "python3",
      "display_name": "Python 3"
    },
    "language_info": {
      "name": "python"
    },
    "accelerator": "GPU",
    "gpuClass": "standard"
  },
  "cells": [
    {
      "cell_type": "code",
      "execution_count": null,
      "metadata": {
        "id": "_4eDps9iJ1Br"
      },
      "outputs": [],
      "source": []
    },
    {
      "cell_type": "markdown",
      "source": [
        "**هێنانی کتێبخانەی بەکار هاتوو**"
      ],
      "metadata": {
        "id": "5w1zlXXzJ2Ai"
      }
    },
    {
      "cell_type": "code",
      "source": [
        "from IPython.display import Audio\n",
        "from scipy.io import wavfile\n",
        "import numpy as np"
      ],
      "metadata": {
        "id": "6YV-fcV7J8yt"
      },
      "execution_count": 1,
      "outputs": []
    },
    {
      "cell_type": "markdown",
      "source": [
        "** نیشاندانی کات و سامپڵ رێیت  **"
      ],
      "metadata": {
        "id": "eAY_E0hlKI5y"
      }
    },
    {
      "cell_type": "code",
      "source": [
        "!pip install -q transformers "
      ],
      "metadata": {
        "id": "GD93CazWSG9X",
        "colab": {
          "base_uri": "https://localhost:8080/"
        },
        "outputId": "b8f02415-e00b-42dd-b260-af0af771d53a"
      },
      "execution_count": 2,
      "outputs": [
        {
          "output_type": "stream",
          "name": "stdout",
          "text": [
            "\u001b[K     |████████████████████████████████| 5.8 MB 6.3 MB/s \n",
            "\u001b[K     |████████████████████████████████| 7.6 MB 55.6 MB/s \n",
            "\u001b[K     |████████████████████████████████| 182 kB 70.3 MB/s \n",
            "\u001b[?25h"
          ]
        }
      ]
    },
    {
      "cell_type": "code",
      "source": [
        "from transformers import pipeline"
      ],
      "metadata": {
        "id": "CDiKmV1GSIFN"
      },
      "execution_count": 3,
      "outputs": []
    },
    {
      "cell_type": "code",
      "source": [
        "from google.colab import drive\n",
        "drive.mount('/content/drive')"
      ],
      "metadata": {
        "colab": {
          "base_uri": "https://localhost:8080/"
        },
        "id": "k8ew54MjMpTu",
        "outputId": "2c7f558a-cd92-4689-afb7-0df935728a99"
      },
      "execution_count": 4,
      "outputs": [
        {
          "output_type": "stream",
          "name": "stdout",
          "text": [
            "Mounted at /content/drive\n"
          ]
        }
      ]
    },
    {
      "cell_type": "markdown",
      "source": [
        "دابەزاندنی مۆدێڵێ زمانی کوردی "
      ],
      "metadata": {
        "id": "e1APFKjNKbi-"
      }
    },
    {
      "cell_type": "code",
      "source": [
        "!pip install -q kenlm\n",
        "!pip install -q pyctcdecode"
      ],
      "metadata": {
        "colab": {
          "base_uri": "https://localhost:8080/"
        },
        "id": "nLKnrUnbNAzM",
        "outputId": "6b58df41-79ba-484c-c99e-dd973f5fb1a3"
      },
      "execution_count": 5,
      "outputs": [
        {
          "output_type": "stream",
          "name": "stdout",
          "text": [
            "Looking in indexes: https://pypi.org/simple, https://us-python.pkg.dev/colab-wheels/public/simple/\n",
            "Collecting kenlm\n",
            "  Downloading kenlm-0.1.tar.gz (424 kB)\n",
            "\u001b[K     |████████████████████████████████| 424 kB 7.6 MB/s \n",
            "\u001b[?25hBuilding wheels for collected packages: kenlm\n",
            "  Building wheel for kenlm (setup.py) ... \u001b[?25l\u001b[?25hdone\n",
            "  Created wheel for kenlm: filename=kenlm-0.1-cp38-cp38-linux_x86_64.whl size=2396023 sha256=2a623a0b1c1de69bbb045b272aafb89d4c29359fffe6c8703afefc20e51ac587\n",
            "  Stored in directory: /root/.cache/pip/wheels/d4/3c/44/389ed64995f0e7382ab7c38ef13e57fb1a5e5e111350ce6807\n",
            "Successfully built kenlm\n",
            "Installing collected packages: kenlm\n",
            "Successfully installed kenlm-0.1\n",
            "Looking in indexes: https://pypi.org/simple, https://us-python.pkg.dev/colab-wheels/public/simple/\n",
            "Collecting pyctcdecode\n",
            "  Downloading pyctcdecode-0.4.0-py2.py3-none-any.whl (45 kB)\n",
            "\u001b[K     |████████████████████████████████| 45 kB 2.4 MB/s \n",
            "\u001b[?25hCollecting pygtrie<3.0,>=2.1\n",
            "  Downloading pygtrie-2.5.0-py3-none-any.whl (25 kB)\n",
            "Collecting hypothesis<7,>=6.14\n",
            "  Downloading hypothesis-6.61.0-py3-none-any.whl (398 kB)\n",
            "\u001b[K     |████████████████████████████████| 398 kB 14.6 MB/s \n",
            "\u001b[?25hRequirement already satisfied: numpy<2.0.0,>=1.15.0 in /usr/local/lib/python3.8/dist-packages (from pyctcdecode) (1.21.6)\n",
            "Requirement already satisfied: sortedcontainers<3.0.0,>=2.1.0 in /usr/local/lib/python3.8/dist-packages (from hypothesis<7,>=6.14->pyctcdecode) (2.4.0)\n",
            "Collecting exceptiongroup>=1.0.0\n",
            "  Downloading exceptiongroup-1.0.4-py3-none-any.whl (14 kB)\n",
            "Requirement already satisfied: attrs>=19.2.0 in /usr/local/lib/python3.8/dist-packages (from hypothesis<7,>=6.14->pyctcdecode) (22.1.0)\n",
            "Installing collected packages: exceptiongroup, pygtrie, hypothesis, pyctcdecode\n",
            "Successfully installed exceptiongroup-1.0.4 hypothesis-6.61.0 pyctcdecode-0.4.0 pygtrie-2.5.0\n"
          ]
        }
      ]
    },
    {
      "cell_type": "code",
      "source": [
        "p = pipeline(\"automatic-speech-recognition\",\"/content/drive/MyDrive/with-lm\")"
      ],
      "metadata": {
        "id": "qCD9NF-gYnEM"
      },
      "execution_count": 6,
      "outputs": []
    },
    {
      "cell_type": "markdown",
      "source": [
        "ناردنی فایلی دەنگی بۆ مۆدێلەکە و وەرگتنەوەی نوسین واتە گۆرینی بۆ **نوسین** "
      ],
      "metadata": {
        "id": "b-G7c3ooKuTU"
      }
    },
    {
      "cell_type": "code",
      "source": [
        "def transcribe(audio, state=\"\"):\n",
        "    time.sleep(3)\n",
        "    text = p(audio)[\"text\"]\n",
        "    state += text + \" \"\n",
        "    return state, state\n"
      ],
      "metadata": {
        "id": "AOZKp7PbK52z"
      },
      "execution_count": 7,
      "outputs": []
    },
    {
      "cell_type": "code",
      "source": [
        "!pip install -q gradio"
      ],
      "metadata": {
        "colab": {
          "base_uri": "https://localhost:8080/"
        },
        "id": "TN8BMX8NSdxE",
        "outputId": "dd22f163-4798-486a-a1b1-4e9665af10fb"
      },
      "execution_count": 8,
      "outputs": [
        {
          "output_type": "stream",
          "name": "stdout",
          "text": [
            "\u001b[K     |████████████████████████████████| 13.8 MB 8.3 MB/s \n",
            "\u001b[K     |████████████████████████████████| 56 kB 5.7 MB/s \n",
            "\u001b[K     |████████████████████████████████| 278 kB 79.5 MB/s \n",
            "\u001b[K     |████████████████████████████████| 55 kB 3.3 MB/s \n",
            "\u001b[K     |████████████████████████████████| 84 kB 3.4 MB/s \n",
            "\u001b[K     |████████████████████████████████| 84 kB 1.8 MB/s \n",
            "\u001b[K     |████████████████████████████████| 106 kB 54.5 MB/s \n",
            "\u001b[K     |████████████████████████████████| 2.3 MB 52.4 MB/s \n",
            "\u001b[K     |████████████████████████████████| 64 kB 3.0 MB/s \n",
            "\u001b[K     |████████████████████████████████| 80 kB 2.1 MB/s \n",
            "\u001b[K     |████████████████████████████████| 68 kB 5.1 MB/s \n",
            "\u001b[K     |████████████████████████████████| 58 kB 5.8 MB/s \n",
            "\u001b[K     |████████████████████████████████| 50 kB 7.7 MB/s \n",
            "\u001b[?25h  Building wheel for ffmpy (setup.py) ... \u001b[?25l\u001b[?25hdone\n",
            "  Building wheel for python-multipart (setup.py) ... \u001b[?25l\u001b[?25hdone\n"
          ]
        }
      ]
    },
    {
      "cell_type": "code",
      "source": [
        "import gradio as gr\n",
        "import time\n"
      ],
      "metadata": {
        "id": "dEtjowIoXsbx"
      },
      "execution_count": 9,
      "outputs": []
    },
    {
      "cell_type": "code",
      "source": [
        "from transformers import pipeline\n",
        "import gradio as gr\n",
        "\n",
        "model =p\n",
        "\n",
        "\n",
        "def transcribe_audio(mic=None, file=None):\n",
        "    if mic is not None:\n",
        "        audio = mic\n",
        "    elif file is not None:\n",
        "        audio = file\n",
        "    else:\n",
        "        return \"پێویستە یان تۆماری مایک یان فایلێک دابین بکەیت\"\n",
        "    transcription = model(audio)[\"text\"]\n",
        "    return transcription\n",
        "\n",
        "\n",
        "gr.Interface(\n",
        "    fn=transcribe_audio,title=\"گۆرینی ئاخاوتنی کوردی بۆ نوسین\",\n",
        "    inputs=[\n",
        "        gr.Audio(source=\"microphone\", type=\"filepath\",label=\"تکایە بە کوردی قسە بکە:\", optional=True),\n",
        "        gr.Audio(source=\"upload\", type=\"filepath\",label=\"تکایە بە کوردی قسە بکە:\", optional=True),\n",
        "    ],\n",
        "    outputs=\"text\",\n",
        ").launch(share=True)"
      ],
      "metadata": {
        "colab": {
          "base_uri": "https://localhost:8080/",
          "height": 698
        },
        "id": "5Gu4rSYbozjI",
        "outputId": "70a2a522-d38b-4f1b-8bd4-70002cbfb6d2"
      },
      "execution_count": 12,
      "outputs": [
        {
          "output_type": "stream",
          "name": "stderr",
          "text": [
            "/usr/local/lib/python3.8/dist-packages/gradio/deprecation.py:40: UserWarning: `optional` parameter is deprecated, and it has no effect\n",
            "  warnings.warn(value)\n"
          ]
        },
        {
          "output_type": "stream",
          "name": "stdout",
          "text": [
            "Colab notebook detected. To show errors in colab notebook, set `debug=True` in `launch()`\n",
            "\n",
            "Setting up a public link... we have recently upgraded the way public links are generated. If you encounter any problems, please report the issue and downgrade to gradio version 3.13.0\n",
            ".\n",
            "Running on public URL: https://4c808680-12ea-46fe.gradio.live\n",
            "\n",
            "This share link expires in 72 hours. For free permanent hosting and GPU upgrades (NEW!), check out Spaces: https://huggingface.co/spaces\n"
          ]
        },
        {
          "output_type": "display_data",
          "data": {
            "text/plain": [
              "<IPython.core.display.HTML object>"
            ],
            "text/html": [
              "<div><iframe src=\"https://4c808680-12ea-46fe.gradio.live\" width=\"100%\" height=\"500\" allow=\"autoplay; camera; microphone; clipboard-read; clipboard-write;\" frameborder=\"0\" allowfullscreen></iframe></div>"
            ]
          },
          "metadata": {}
        },
        {
          "output_type": "execute_result",
          "data": {
            "text/plain": []
          },
          "metadata": {},
          "execution_count": 12
        }
      ]
    },
    {
      "cell_type": "code",
      "source": [
        "!pip install -q pytube \n",
        "!pip install -q librosa\n",
        "!pip install -q soundfile \n",
        "!pip install -q transformers \n",
        "!pip install -q torch\n",
        "!pip install -q pydub"
      ],
      "metadata": {
        "id": "WmgMjMBqX1FB",
        "colab": {
          "base_uri": "https://localhost:8080/"
        },
        "outputId": "7b27febd-87ff-4a79-e670-d44c35857d47"
      },
      "execution_count": 11,
      "outputs": [
        {
          "output_type": "stream",
          "name": "stdout",
          "text": [
            "\u001b[?25l\r\u001b[K     |█████▊                          | 10 kB 27.4 MB/s eta 0:00:01\r\u001b[K     |███████████▌                    | 20 kB 19.9 MB/s eta 0:00:01\r\u001b[K     |█████████████████▎              | 30 kB 10.2 MB/s eta 0:00:01\r\u001b[K     |███████████████████████         | 40 kB 6.3 MB/s eta 0:00:01\r\u001b[K     |████████████████████████████▊   | 51 kB 7.7 MB/s eta 0:00:01\r\u001b[K     |████████████████████████████████| 57 kB 3.5 MB/s \n",
            "\u001b[?25h"
          ]
        }
      ]
    },
    {
      "cell_type": "code",
      "source": [
        "audio_path = '/content/'"
      ],
      "metadata": {
        "id": "ffdEoAwDvSxr"
      },
      "execution_count": 12,
      "outputs": []
    },
    {
      "cell_type": "code",
      "source": [],
      "metadata": {
        "id": "usCKEA38vWHp"
      },
      "execution_count": null,
      "outputs": []
    },
    {
      "cell_type": "code",
      "execution_count": 54,
      "metadata": {
        "id": "9wafFG5P1bQP"
      },
      "outputs": [],
      "source": [
        "link='https://www.youtube.com/watch?v=TXNuAdVzPBA'"
      ]
    },
    {
      "cell_type": "code",
      "execution_count": 55,
      "metadata": {
        "id": "8Myhrz721ymg"
      },
      "outputs": [],
      "source": [
        "\n",
        "from pytube import YouTube "
      ]
    },
    {
      "cell_type": "code",
      "execution_count": 56,
      "metadata": {
        "colab": {
          "base_uri": "https://localhost:8080/"
        },
        "id": "7zpbguTf1m2W",
        "outputId": "6e8854e5-28c9-41a9-bba0-059da54787df"
      },
      "outputs": [
        {
          "output_type": "stream",
          "name": "stdout",
          "text": [
            "hi\n"
          ]
        }
      ],
      "source": [
        "try: \n",
        "    # object creation using YouTube\n",
        "    # which was imported in the beginning \n",
        "    print(\"hi\")\n",
        "    yt = YouTube(link) \n",
        "except: \n",
        "    print(\"Connection Error\")"
      ]
    },
    {
      "cell_type": "code",
      "execution_count": 57,
      "metadata": {
        "colab": {
          "base_uri": "https://localhost:8080/"
        },
        "id": "SFIHD9xq1m--",
        "outputId": "52c1da36-69d0-45e2-a732-d1cc9182f3c8"
      },
      "outputs": [
        {
          "output_type": "execute_result",
          "data": {
            "text/plain": [
              "[<Stream: itag=\"18\" mime_type=\"video/mp4\" res=\"360p\" fps=\"30fps\" vcodec=\"avc1.42001E\" acodec=\"mp4a.40.2\" progressive=\"True\" type=\"video\">, <Stream: itag=\"22\" mime_type=\"video/mp4\" res=\"720p\" fps=\"30fps\" vcodec=\"avc1.64001F\" acodec=\"mp4a.40.2\" progressive=\"True\" type=\"video\">, <Stream: itag=\"137\" mime_type=\"video/mp4\" res=\"1080p\" fps=\"30fps\" vcodec=\"avc1.640020\" progressive=\"False\" type=\"video\">, <Stream: itag=\"136\" mime_type=\"video/mp4\" res=\"720p\" fps=\"30fps\" vcodec=\"avc1.4d4016\" progressive=\"False\" type=\"video\">, <Stream: itag=\"135\" mime_type=\"video/mp4\" res=\"480p\" fps=\"30fps\" vcodec=\"avc1.4d4014\" progressive=\"False\" type=\"video\">, <Stream: itag=\"134\" mime_type=\"video/mp4\" res=\"360p\" fps=\"30fps\" vcodec=\"avc1.4d4015\" progressive=\"False\" type=\"video\">, <Stream: itag=\"133\" mime_type=\"video/mp4\" res=\"240p\" fps=\"30fps\" vcodec=\"avc1.4d400c\" progressive=\"False\" type=\"video\">, <Stream: itag=\"160\" mime_type=\"video/mp4\" res=\"144p\" fps=\"30fps\" vcodec=\"avc1.4d400b\" progressive=\"False\" type=\"video\">, <Stream: itag=\"139\" mime_type=\"audio/mp4\" abr=\"48kbps\" acodec=\"mp4a.40.5\" progressive=\"False\" type=\"audio\">, <Stream: itag=\"140\" mime_type=\"audio/mp4\" abr=\"128kbps\" acodec=\"mp4a.40.2\" progressive=\"False\" type=\"audio\">]"
            ]
          },
          "metadata": {},
          "execution_count": 57
        }
      ],
      "source": [
        "yt.streams.filter(file_extension='mp4')"
      ]
    },
    {
      "cell_type": "code",
      "execution_count": 58,
      "metadata": {
        "id": "BRPE7AAI1nBl"
      },
      "outputs": [],
      "source": [
        "stream = yt.streams.get_by_itag(139)"
      ]
    },
    {
      "cell_type": "code",
      "execution_count": 59,
      "metadata": {
        "colab": {
          "base_uri": "https://localhost:8080/",
          "height": 35
        },
        "id": "hRtvHmXh1nEY",
        "outputId": "03a67e47-ad7f-4169-92ec-ad980102ff29"
      },
      "outputs": [
        {
          "output_type": "execute_result",
          "data": {
            "text/plain": [
              "'/content/GoogleImagen.mp4'"
            ],
            "application/vnd.google.colaboratory.intrinsic+json": {
              "type": "string"
            }
          },
          "metadata": {},
          "execution_count": 59
        }
      ],
      "source": [
        "stream.download(audio_path,\"GoogleImagen.mp4\")"
      ]
    },
    {
      "cell_type": "code",
      "execution_count": 60,
      "metadata": {
        "id": "vZAzVmcU1nHQ"
      },
      "outputs": [],
      "source": [
        "from pydub import AudioSegment"
      ]
    },
    {
      "cell_type": "code",
      "execution_count": 61,
      "metadata": {
        "id": "G9KSIYWU1nKS"
      },
      "outputs": [],
      "source": [
        "given_audio = AudioSegment.from_file('/content/GoogleImagen.mp4', format=\"mp4\") "
      ]
    },
    {
      "cell_type": "code",
      "execution_count": 62,
      "metadata": {
        "colab": {
          "base_uri": "https://localhost:8080/"
        },
        "id": "58r6iasw2Gfo",
        "outputId": "714c9bc6-255a-4159-f327-be1dda609fb9"
      },
      "outputs": [
        {
          "output_type": "execute_result",
          "data": {
            "text/plain": [
              "<_io.BufferedRandom name='GoogleImagen.wav'>"
            ]
          },
          "metadata": {},
          "execution_count": 62
        }
      ],
      "source": [
        "given_audio.export(\"GoogleImagen.wav\", format=\"wav\")"
      ]
    },
    {
      "cell_type": "code",
      "execution_count": 63,
      "metadata": {
        "id": "Nmki3Y0_2CIm"
      },
      "outputs": [],
      "source": [
        "import librosa\n",
        "\n",
        "import soundfile as sf"
      ]
    },
    {
      "cell_type": "code",
      "execution_count": 64,
      "metadata": {
        "id": "AXAZyfVe2MIj"
      },
      "outputs": [],
      "source": [
        "sp, rate = sf.read(\"GoogleImagen.wav\")\n",
        "\n",
        "sp= librosa.resample(sp.T, rate, 16000)"
      ]
    },
    {
      "cell_type": "code",
      "execution_count": 65,
      "metadata": {
        "id": "dWA5TDfF2MK3"
      },
      "outputs": [],
      "source": [
        "sf.write(\"GoogleImagen.wav\", sp.T, 16000, subtype='PCM_24')"
      ]
    },
    {
      "cell_type": "code",
      "source": [
        "from pydub import AudioSegment\n",
        "from pydub.silence import split_on_silence\n",
        " \n",
        "sound_file = AudioSegment.from_wav(\"GoogleImagen.wav\")\n",
        "audio_chunks = split_on_silence(sound_file, min_silence_len=500, silence_thresh=-41 )\n",
        " \n",
        "for i, chunk in enumerate(audio_chunks):\n",
        "    \n",
        "   out_file = \"raa_kaw_000{0}.wav\".format(i+101)\n",
        "   #print(\"exporting\", out_file)\n",
        "   chunk.export(out_file, format=\"wav\")\n",
        "   transcription = model(out_file)[\"text\"]\n",
        "   print(transcription)"
      ],
      "metadata": {
        "colab": {
          "base_uri": "https://localhost:8080/"
        },
        "id": "q2xZyOy454SR",
        "outputId": "3bc8cab4-b0eb-4530-abdc-93545a65926f"
      },
      "execution_count": 66,
      "outputs": [
        {
          "output_type": "stream",
          "name": "stdout",
          "text": [
            "یەک شەو لە ژیانی خۆت دانیشە بیر کەرەوە\n",
            "بەرنامەی ئەم ساڵ دابنێ\n",
            "بەرنامەی ژیانت دابنێ بەرنامەی مانگ دابنێ دواتر بڵێ لە ئەخیتەئەگەمە ئەم ئاستە ئەگەمە ئەم پلەیە\n",
            "ئەبێ بگەم ئەمە ئیجا کۆڵەکە\n",
            "بەڵام بە غەیری لووتکەکە ڕازی نەبی\n",
            "بە غەیری چڵە پۆپە ڕازی نەبی ئاگاتان لێی بێ\n",
            "لە شوێنێک کات چەق بەستن لە شوێنەکان نەوەستن\n",
            "لە شوێنێکا کۆڵ نەدەن لە شوێنێک هاو چان نەدەن ئەگەر و چاویشتان دا تەنها بۆ تازەکردنەوەی وزە و تاقە کەتان بێ جاری تر هەستنەوە\n",
            "بیر لە لوو تر کە بکەرەوە\n",
            "ئەگەر نەگەیشتە تە لووتکەکە لە خوارە و وەستان\n",
            "ئەگەر لێرە نەوەستا لە خوارەوە\n",
            "لەبەر و دایم بۆ یەکەمی هەوڵ بە یەکەم نەبوویت\n",
            "قەشە ئەوا ئیلیت مەترسە\n",
            "هەر نەبوو دەرە چیت\n",
            "بەڵام بۆ دەرچوون هەوڵ دا ئەکەوی\n",
            "ئاگات دەی بێ\n",
            "بۆ کەوتن هەڵدا هیچ فێر نابی قەت پێناگەیقەد دروست نابی دانیشە چین سانێکی فاشیلی لە دروست بێت\n",
            "سیقەت بە خۆت نییە دەرزێ بڵێیتەوە مامۆستای ماددەکەی بەیانی ئەو مادەیتبۆناو بچێتەوە کە تۆ چوار ساڵەی خوێنیت و بەحسا پسپۆڕی لە مان دەکەیە\n",
            "دکتۆرایەک لە ژیانتا تەنها دالێکی لە پێشەو بە زیاد کردووین\n",
            "بەڵام هیچی لە ژیانتانە گۆڕیوە زۆر بە داخەوە\n",
            "شەخسییەت ئەو شتەی خۆشەویستەکانم ئاگاتان لێی بێ\n",
            "ئەکرێ\n",
            "فەڕاشی هەی بێ\n",
            "ئەکرێ کەن ناسێک و پاکەرەوەیەکی سەر جادەکان هەی بێ\n",
            "بەڵام ئەکرێ پرۆفیسۆرێک لێی بێ بەش بێ\n",
            "گاتان لێی بێ\n",
            "ئەمانە شەخسییەت بۆ ئینسان دروست ناکەن\n",
            "ئیسان ئەبێت\n",
            "بەرنامەی هەبێ لە ژیانی دا بۆ ئەوەی کە پلەکان ببڕێ هەنگاوەکان ببڕێ\n",
            "لەگەڵ ئەوەشا\n",
            "چەند شەهادەکە و چەند دەرەجەکەی چەند پلەکەی بە لاوە گرنگە\n",
            "ئەو نە شەخسییەتە کەی ئەبێ قەتیز بخوا\n",
            "ئەوە ئەوێ بە شەخسیەتیەکی خۆی چونکە ئینسان کە بەرز بۆ کەوتنەکەی سەختە\n",
            "حسابی بۆ ئەکرێ\n",
            "ئیسا کە نا\n",
            "بزەیەکی پیاوێکی گەورە\n",
            "بە قەد قاقایەکی منداڵێک لە سەر کەوێ\n",
            "قورسە گاتان لێی بێ\n",
            "لە بەرەوە ئیساکەوە بوو خەڵک زۆر بە گەورە سەیر یەک\n",
            "دەنگ کە گوڵە بەڕۆژەیە کە ترووکانی\n",
            "کە فڕی دایە بەردەمی زۆر لەسە ئەکەوێدانیشت نییە بە شێوەیەک زۆر لە سەر ئەکەوی\n",
            "خەڵک تەنها سەیری نەک سەیری هەموو لەشولارێکی ەری هەموو دەستە ڕووفاتی حەرەکەی پەنجەکانی کە زۆر جار بینن کە ڕۆژنامەنووسی ئەچێ بە لای پیاوێکی گەورە تەسویرەکانی دەستێکە بزانێت دەستی لەو کاتە چەکەکە ئەم تەسویرێک تەرکیز دەخاتە سەر\n",
            "کە لەرزینی ئەم مەعنایە ئەم شەخسیەتیش دروست نەبووە\n",
            "بۆیە زۆر جار بینن لە نوقتەی زۆر فا ئاوا خەڵکێک گرن\n",
            "کابرا حەرەکەیەکی بەسیت کردووە تەنها ئیشارەی جسمی هەیە\n",
            "ئیشاڕە تەکەی لەسەر دەکەوێ\n",
            "ئاگاتان لێی بێ داموو پیاوێکی گەورە خۆتان سەیر کەن\n",
            "قەت بەمناڵ خۆتان ببینن\n"
          ]
        }
      ]
    },
    {
      "cell_type": "code",
      "source": [
        "transcript = \"\"\n",
        "# Ensure that the sample rate is 16k\n",
        "print(librosa.get_samplerate(\"GoogleImagen.wav\"))\n",
        "\n",
        "# Stream over 30 seconds chunks rather than load the full file\n",
        "stream = librosa.stream(\n",
        "    \"GoogleImagen.wav\",\n",
        "    block_length=7,\n",
        "    frame_length=16000,\n",
        "    hop_length=16000\n",
        ")"
      ],
      "metadata": {
        "colab": {
          "base_uri": "https://localhost:8080/"
        },
        "id": "cbtBlbIzv6Z9",
        "outputId": "b9dd5a10-fc93-47b6-c788-34e1435a73ca"
      },
      "execution_count": 38,
      "outputs": [
        {
          "output_type": "stream",
          "name": "stdout",
          "text": [
            "16000\n"
          ]
        }
      ]
    },
    {
      "cell_type": "code",
      "source": [
        "for speech in stream:\n",
        "        if len(speech.shape) > 1:\n",
        "            speech = speech[:, 0] + speech[:, 1]\n",
        "\n",
        "        transcription = model(speech)[\"text\"]\n",
        "         \n",
        "        print(transcription)"
      ],
      "metadata": {
        "colab": {
          "base_uri": "https://localhost:8080/"
        },
        "id": "VzIaPzeHv7Sn",
        "outputId": "a29c262c-36e8-4bc7-a17e-777b3460276e"
      },
      "execution_count": 39,
      "outputs": [
        {
          "output_type": "stream",
          "name": "stdout",
          "text": [
            "پ قەسدیرە\n",
            "وەرگێڕانی سیر واحمد گەنجانی سایدی نوورسی کەسێکی ئاسایی نێو خەڵکانی ئاسایی نە\n",
            "بوو ئەوانەی کە داینە دنیای بوونەوە کۆڵ و بار دەپێچنەوە و دنیا بە جێ دەهێڵن بە بێ ئەوەی بزانم بۆچی هاتنە\n",
            "دنیا و بۆچی دەڕۆن ئەو کەسێک بوو لە نێو ناخ و بوونی دا هەموو سێ ئازارەکانی ئوممەتی هەڵگرتبوو\n",
            "کات و ساتی درێژەی تەمەنی ئەویش کە سەر وەخت و پاش جەنگی جیهانی یەکەم بوو وێرانی و کاولی و شەڕ و کوشتار\n",
            "بوو ساڵانی جەنگی سەر بە خۆی بوو کە تێیدا زۆربەی لاوەکانی وڵات بە قوربانی چووبوون ناحەزان و\n",
            "دوژمنان بەوەوە نەوەستان و بەڵک و گیر و گرفتەکە تەنیا لە وێرانکردنی لایەنی ماددی ئومەتانەی\n",
            "وە بەڵکوو لەگەڵیدا دەستی حوکمڕانانی نامۆ بەرەو لایەنی ڕۆحی ئەمەدرێژ بووە و بە مەبەستی مەرجی کۆت\n",
            "دەستیان لە بینی توند کرد بە چۆنیەتی و ڕەدوکەوتنی کوێرانەیە خۆرئاوا شێتانە\n",
            "بەربوونە گیانی ئوممەتەکەدا قەدەری خوایی لە ئامادەکردندان سەعیدی نوورسی دابوو\n",
            "بۆ ئەوەی سەر لەبەری ژیانی بۆ تیمارکردن و چارەسەری ئەو برینە بەخت بکات کە حەز و دوژمنان خستیانە جەستە ڕوو حی ئومەتە\n",
            "بۆ ئەوەی هەموو ئەوانەی کە ڕووخاندوویانە سەر لە نوێ دروستی بکاتەوە و هەر ئەوەش کە دروستیان کردووە تێک و پێک\n",
            "ئی وەک پیاو دروستکردبو بە ئیمزای خۆی موجەددیدی سەد و سەردەم\n",
            "ب بە باوکی ڕۆحی بۆ زۆرینەی کەسە دیار و زانا دڵسۆز و خەمخۆرەکانی ئەم\n"
          ]
        }
      ]
    }
  ]
}